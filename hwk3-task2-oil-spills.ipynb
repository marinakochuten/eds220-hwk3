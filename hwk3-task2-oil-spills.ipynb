{
 "cells": [
  {
   "cell_type": "code",
   "execution_count": null,
   "metadata": {
    "deletable": false,
    "editable": false
   },
   "outputs": [
    {
     "ename": "FileNotFoundError",
     "evalue": "[Errno 2] No such file or directory: 'hwk3-task1-spills.ipynb'",
     "output_type": "error",
     "traceback": [
      "\u001b[0;31m---------------------------------------------------------------------------\u001b[0m",
      "\u001b[0;31mAttributeError\u001b[0m                            Traceback (most recent call last)",
      "File \u001b[0;32m~/opt/anaconda3/envs/eds220-env/lib/python3.11/site-packages/nbformat/__init__.py:169\u001b[0m, in \u001b[0;36mread\u001b[0;34m(fp, as_version, capture_validation_error, **kwargs)\u001b[0m\n\u001b[1;32m    168\u001b[0m \u001b[38;5;28;01mtry\u001b[39;00m:\n\u001b[0;32m--> 169\u001b[0m     buf \u001b[38;5;241m=\u001b[39m \u001b[43mfp\u001b[49m\u001b[38;5;241;43m.\u001b[39;49m\u001b[43mread\u001b[49m()\n\u001b[1;32m    170\u001b[0m \u001b[38;5;28;01mexcept\u001b[39;00m \u001b[38;5;167;01mAttributeError\u001b[39;00m:\n",
      "\u001b[0;31mAttributeError\u001b[0m: 'str' object has no attribute 'read'",
      "\nDuring handling of the above exception, another exception occurred:\n",
      "\u001b[0;31mFileNotFoundError\u001b[0m                         Traceback (most recent call last)",
      "Cell \u001b[0;32mIn[4], line 3\u001b[0m\n\u001b[1;32m      1\u001b[0m \u001b[38;5;66;03m# Initialize Otter\u001b[39;00m\n\u001b[1;32m      2\u001b[0m \u001b[38;5;28;01mimport\u001b[39;00m \u001b[38;5;21;01motter\u001b[39;00m\n\u001b[0;32m----> 3\u001b[0m grader \u001b[38;5;241m=\u001b[39m \u001b[43motter\u001b[49m\u001b[38;5;241;43m.\u001b[39;49m\u001b[43mNotebook\u001b[49m\u001b[43m(\u001b[49m\u001b[38;5;124;43m\"\u001b[39;49m\u001b[38;5;124;43mhwk3-task1-spills.ipynb\u001b[39;49m\u001b[38;5;124;43m\"\u001b[39;49m\u001b[43m)\u001b[49m\n",
      "File \u001b[0;32m~/opt/anaconda3/envs/eds220-env/lib/python3.11/site-packages/otter/check/utils.py:217\u001b[0m, in \u001b[0;36mlogs_event.<locals>.event_logger\u001b[0;34m(wrapped, self, args, kwargs)\u001b[0m\n\u001b[1;32m    215\u001b[0m \u001b[38;5;28;01mexcept\u001b[39;00m \u001b[38;5;167;01mException\u001b[39;00m \u001b[38;5;28;01mas\u001b[39;00m e:\n\u001b[1;32m    216\u001b[0m     \u001b[38;5;28mself\u001b[39m\u001b[38;5;241m.\u001b[39m_log_event(event_type, success\u001b[38;5;241m=\u001b[39m\u001b[38;5;28;01mFalse\u001b[39;00m, error\u001b[38;5;241m=\u001b[39me)\n\u001b[0;32m--> 217\u001b[0m     \u001b[38;5;28;01mraise\u001b[39;00m e\n\u001b[1;32m    219\u001b[0m \u001b[38;5;28;01mif\u001b[39;00m ret \u001b[38;5;129;01mis\u001b[39;00m \u001b[38;5;28;01mNone\u001b[39;00m:\n\u001b[1;32m    220\u001b[0m     ret \u001b[38;5;241m=\u001b[39m LoggedEventReturnValue(\u001b[38;5;28;01mNone\u001b[39;00m)\n",
      "File \u001b[0;32m~/opt/anaconda3/envs/eds220-env/lib/python3.11/site-packages/otter/check/utils.py:213\u001b[0m, in \u001b[0;36mlogs_event.<locals>.event_logger\u001b[0;34m(wrapped, self, args, kwargs)\u001b[0m\n\u001b[1;32m    208\u001b[0m \u001b[38;5;250m\u001b[39m\u001b[38;5;124;03m\"\"\"\u001b[39;00m\n\u001b[1;32m    209\u001b[0m \u001b[38;5;124;03mRuns a method, catching any errors and logging the call. Returns the unwrapped return value\u001b[39;00m\n\u001b[1;32m    210\u001b[0m \u001b[38;5;124;03mof the wrapped function.\u001b[39;00m\n\u001b[1;32m    211\u001b[0m \u001b[38;5;124;03m\"\"\"\u001b[39;00m\n\u001b[1;32m    212\u001b[0m \u001b[38;5;28;01mtry\u001b[39;00m:\n\u001b[0;32m--> 213\u001b[0m     ret: Optional[LoggedEventReturnValue[T]] \u001b[38;5;241m=\u001b[39m \u001b[43mwrapped\u001b[49m\u001b[43m(\u001b[49m\u001b[38;5;241;43m*\u001b[39;49m\u001b[43margs\u001b[49m\u001b[43m,\u001b[49m\u001b[43m \u001b[49m\u001b[38;5;241;43m*\u001b[39;49m\u001b[38;5;241;43m*\u001b[39;49m\u001b[43mkwargs\u001b[49m\u001b[43m)\u001b[49m\n\u001b[1;32m    215\u001b[0m \u001b[38;5;28;01mexcept\u001b[39;00m \u001b[38;5;167;01mException\u001b[39;00m \u001b[38;5;28;01mas\u001b[39;00m e:\n\u001b[1;32m    216\u001b[0m     \u001b[38;5;28mself\u001b[39m\u001b[38;5;241m.\u001b[39m_log_event(event_type, success\u001b[38;5;241m=\u001b[39m\u001b[38;5;28;01mFalse\u001b[39;00m, error\u001b[38;5;241m=\u001b[39me)\n",
      "File \u001b[0;32m~/opt/anaconda3/envs/eds220-env/lib/python3.11/site-packages/otter/check/notebook.py:144\u001b[0m, in \u001b[0;36mNotebook.__init__\u001b[0;34m(self, nb_path, tests_dir, tests_url_prefix, colab, jupyterlite)\u001b[0m\n\u001b[1;32m    140\u001b[0m     \u001b[38;5;28mself\u001b[39m\u001b[38;5;241m.\u001b[39m_notebook \u001b[38;5;241m=\u001b[39m \u001b[38;5;28mself\u001b[39m\u001b[38;5;241m.\u001b[39m_config[\u001b[38;5;124m\"\u001b[39m\u001b[38;5;124mnotebook\u001b[39m\u001b[38;5;124m\"\u001b[39m]\n\u001b[1;32m    142\u001b[0m \u001b[38;5;28;01mif\u001b[39;00m \u001b[38;5;28mself\u001b[39m\u001b[38;5;241m.\u001b[39m_notebook:\n\u001b[1;32m    143\u001b[0m     \u001b[38;5;28mself\u001b[39m\u001b[38;5;241m.\u001b[39m_nbmeta_config \u001b[38;5;241m=\u001b[39m NBMetadataConfig\u001b[38;5;241m.\u001b[39mfrom_notebook(\n\u001b[0;32m--> 144\u001b[0m         \u001b[43mnbf\u001b[49m\u001b[38;5;241;43m.\u001b[39;49m\u001b[43mread\u001b[49m\u001b[43m(\u001b[49m\u001b[38;5;28;43mself\u001b[39;49m\u001b[38;5;241;43m.\u001b[39;49m\u001b[43m_notebook\u001b[49m\u001b[43m,\u001b[49m\u001b[43m \u001b[49m\u001b[43mnbf\u001b[49m\u001b[38;5;241;43m.\u001b[39;49m\u001b[43mNO_CONVERT\u001b[49m\u001b[43m)\u001b[49m)\n\u001b[1;32m    145\u001b[0m \u001b[38;5;28;01melse\u001b[39;00m:\n\u001b[1;32m    146\u001b[0m     \u001b[38;5;28mself\u001b[39m\u001b[38;5;241m.\u001b[39m_nbmeta_config \u001b[38;5;241m=\u001b[39m NBMetadataConfig()\n",
      "File \u001b[0;32m~/opt/anaconda3/envs/eds220-env/lib/python3.11/site-packages/nbformat/__init__.py:171\u001b[0m, in \u001b[0;36mread\u001b[0;34m(fp, as_version, capture_validation_error, **kwargs)\u001b[0m\n\u001b[1;32m    169\u001b[0m     buf \u001b[38;5;241m=\u001b[39m fp\u001b[38;5;241m.\u001b[39mread()\n\u001b[1;32m    170\u001b[0m \u001b[38;5;28;01mexcept\u001b[39;00m \u001b[38;5;167;01mAttributeError\u001b[39;00m:\n\u001b[0;32m--> 171\u001b[0m     \u001b[38;5;28;01mwith\u001b[39;00m \u001b[38;5;28;43mopen\u001b[39;49m\u001b[43m(\u001b[49m\u001b[43mfp\u001b[49m\u001b[43m,\u001b[49m\u001b[43m \u001b[49m\u001b[43mencoding\u001b[49m\u001b[38;5;241;43m=\u001b[39;49m\u001b[38;5;124;43m\"\u001b[39;49m\u001b[38;5;124;43mutf8\u001b[39;49m\u001b[38;5;124;43m\"\u001b[39;49m\u001b[43m)\u001b[49m \u001b[38;5;28;01mas\u001b[39;00m f:  \u001b[38;5;66;03m# noqa: PTH123\u001b[39;00m\n\u001b[1;32m    172\u001b[0m         \u001b[38;5;28;01mreturn\u001b[39;00m reads(f\u001b[38;5;241m.\u001b[39mread(), as_version, capture_validation_error, \u001b[38;5;241m*\u001b[39m\u001b[38;5;241m*\u001b[39mkwargs)\n\u001b[1;32m    174\u001b[0m \u001b[38;5;28;01mreturn\u001b[39;00m reads(buf, as_version, capture_validation_error, \u001b[38;5;241m*\u001b[39m\u001b[38;5;241m*\u001b[39mkwargs)\n",
      "\u001b[0;31mFileNotFoundError\u001b[0m: [Errno 2] No such file or directory: 'hwk3-task1-spills.ipynb'"
     ]
    }
   ],
   "source": [
    "# Initialize Otter\n",
    "import otter\n",
    "grader = otter.Notebook(\"hwk3-task1-spills.ipynb\")"
   ]
  },
  {
   "cell_type": "markdown",
   "metadata": {},
   "source": [
    "# Task 1: Visualizing oil spills in NY State\n",
    "\n",
    "## Instructions\n",
    "\n",
    "- First, update the following cell to have a link to *your* Homework 3 GitHub repository:\n",
    "\n",
    "**UPDATE THIS LINK**\n",
    "https://github.com/marinakochuten/eds220-hwk3\n",
    "\n",
    "- Review the [complete rubric for this task](https://docs.google.com/document/d/1Ce4EO3MEHW5uLks4x8BECWlkim2bcmxB4f8Qo4z26z8/edit?usp=sharing) before starting.\n",
    "\n",
    "- **Meaningful commits should be made every time you finish a major step.** We'll check your repository and view the commit history.\n",
    "\n",
    "- Comment mindfully in a way that enriches your code. Comments should follow best practices.\n",
    "\n",
    "- **Do not update the top cell with the `otter` import**, this is used internally for grading.\n",
    "\n",
    "- Delete all the comments initially included in this notebook (ex: `# Your code here`).\n",
    "\n",
    "\n",
    "## About the data\n",
    "In this task you will use two datsets:\n",
    "\n",
    "### First dataset: oil spills data\n",
    "\n",
    "The first dataset contains information about [spilling incidents in the state of New York](https://data.ny.gov/Energy-Environment/Spill-Incidents/u44d-k5fk). \n",
    "You can find extra information and metadata for this dataset in the `NYSDEC_SpillIncidents_Overview.pdf` and `NYSDEC_SpillIncidents_DataDictionary.pdf` documents available at the portal.\n",
    "\n",
    "### Second dataset: TIGER shapefile\n",
    "\n",
    "The second dataset is the [the 2023 Counties (and equivalent) TIGER shapefile](https://www.census.gov/geographies/mapping-files/time-series/geo/tiger-line-file.2022.html#list-tab-790442341) from the Census Bureau. You can check the [metadata for all the TIGER shapefiles here](https://www.census.gov/programs-surveys/geography/technical-documentation/complete-technical-documentation/tiger-geo-line.html). "
   ]
  },
  {
   "cell_type": "markdown",
   "metadata": {},
   "source": [
    "\n",
    "## 1. File management\n",
    "a. Create a `data/` directory inside your `eds220-hwk3` directory. If you download any data, it should be transferred into this folder. \n",
    "\n",
    "b. Add the `data/` directory to your `.gitignore` file and push your changes. This is IMPORTANT: the datasets we'll be working with are large and they will most likely jam your `git` workflow if you try to push them. Your `data/` directory should not be in your GitHub repository."
   ]
  },
  {
   "cell_type": "markdown",
   "metadata": {},
   "source": [
    "## 2. Datasets description\n",
    "Read the metadata for both datsets and write a description about each one. Indicate the date sources and date of access.\n"
   ]
  },
  {
   "cell_type": "markdown",
   "metadata": {},
   "source": [
    "**Oil spill data:** This dataset contains record of hazardous materials spills, incuding petroleum, in New York State.\n",
    "\n",
    "*Source:* New York State Department of Environmental Conservation. (2024). *Spill Incidents* [Data set]. Accessed 2024-11-05. https://data.ny.gov/Energy-Environment/Spill-Incidents/u44d-k5fk/about_data  \n",
    "\n",
    "**TIGER data:** Shapefile containing county boundary lines from the Census Bureau.\n",
    "\n",
    "*Source:* U.S. Census Bureau. (2023). “tl_2023_us_county”, TIGER/Line Shapefiles. Accessed 2024-11-05. https://www2.census.gov/geo/tiger/TIGER2023/COUNTY/\n"
   ]
  },
  {
   "cell_type": "markdown",
   "metadata": {},
   "source": [
    "## 3. Import libraries"
   ]
  },
  {
   "cell_type": "code",
   "execution_count": 1,
   "metadata": {},
   "outputs": [],
   "source": [
    "# Load libraries\n",
    "import os\n",
    "import pandas as pd\n",
    "import numpy as np\n",
    "import matplotlib.pyplot as plt\n",
    "import geopandas as gpd"
   ]
  },
  {
   "cell_type": "markdown",
   "metadata": {},
   "source": [
    "## 4. Import data \n",
    "In the next cell:\n",
    "\n",
    "- Import the NY spills data as a variable named `spills`. \n",
    "- Import the US counties data as a variable named `counties`.\n",
    "\n",
    "If you are using file paths to access the data, these should be constructed using the `os` package."
   ]
  },
  {
   "cell_type": "code",
   "execution_count": 2,
   "metadata": {},
   "outputs": [],
   "source": [
    "# Import spills data\n",
    "fp_spills = os.path.join('data', 'spills.csv')\n",
    "spills = pd.read_csv(fp_spills)\n",
    "\n",
    "# Import county data\n",
    "fp_counties = os.path.join('data', 'tl_2023_us_county', 'tl_2023_us_county.shp')\n",
    "counties = gpd.read_file(\"data/tl_2023_us_county/\")"
   ]
  },
  {
   "cell_type": "markdown",
   "metadata": {},
   "source": [
    "## 5. Prepare spills data\n",
    "\n",
    "This section refers to the `spills` dataframe. \n",
    "Check the outputs carefully, they will give you information you will need to use in the next exercises.\n",
    "\n",
    "### 5.A. Exploration\n",
    "\n",
    "In the next cells:\n",
    "\n",
    "a. Check the dataframe's head.\n",
    "\n",
    "b. Check the data types of the columns.\n",
    "\n",
    "c. Check the unique values in the `material_family` column.\n",
    "\n",
    "d. Check the unique values in the `county` column.\n",
    "\n",
    "You can add other cells for preliminary data exploration."
   ]
  },
  {
   "cell_type": "code",
   "execution_count": 3,
   "metadata": {},
   "outputs": [
    {
     "data": {
      "text/html": [
       "<div>\n",
       "<style scoped>\n",
       "    .dataframe tbody tr th:only-of-type {\n",
       "        vertical-align: middle;\n",
       "    }\n",
       "\n",
       "    .dataframe tbody tr th {\n",
       "        vertical-align: top;\n",
       "    }\n",
       "\n",
       "    .dataframe thead th {\n",
       "        text-align: right;\n",
       "    }\n",
       "</style>\n",
       "<table border=\"1\" class=\"dataframe\">\n",
       "  <thead>\n",
       "    <tr style=\"text-align: right;\">\n",
       "      <th></th>\n",
       "      <th>Spill Number</th>\n",
       "      <th>Program Facility Name</th>\n",
       "      <th>Street 1</th>\n",
       "      <th>Street 2</th>\n",
       "      <th>Locality</th>\n",
       "      <th>County</th>\n",
       "      <th>ZIP Code</th>\n",
       "      <th>SWIS Code</th>\n",
       "      <th>DEC Region</th>\n",
       "      <th>Spill Date</th>\n",
       "      <th>Received Date</th>\n",
       "      <th>Contributing Factor</th>\n",
       "      <th>Waterbody</th>\n",
       "      <th>Source</th>\n",
       "      <th>Close Date</th>\n",
       "      <th>Material Name</th>\n",
       "      <th>Material Family</th>\n",
       "      <th>Quantity</th>\n",
       "      <th>Units</th>\n",
       "      <th>Recovered</th>\n",
       "    </tr>\n",
       "  </thead>\n",
       "  <tbody>\n",
       "    <tr>\n",
       "      <th>0</th>\n",
       "      <td>107132</td>\n",
       "      <td>MH 864</td>\n",
       "      <td>RT 119/MILLWOOD RD</td>\n",
       "      <td>NaN</td>\n",
       "      <td>ELMSFORD</td>\n",
       "      <td>Westchester</td>\n",
       "      <td>NaN</td>\n",
       "      <td>6000</td>\n",
       "      <td>3</td>\n",
       "      <td>10/10/2001</td>\n",
       "      <td>10/10/2001</td>\n",
       "      <td>Unknown</td>\n",
       "      <td>NaN</td>\n",
       "      <td>Unknown</td>\n",
       "      <td>10/15/2001</td>\n",
       "      <td>unknown material</td>\n",
       "      <td>Other</td>\n",
       "      <td>10.0</td>\n",
       "      <td>Gallons</td>\n",
       "      <td>0.0</td>\n",
       "    </tr>\n",
       "    <tr>\n",
       "      <th>1</th>\n",
       "      <td>405586</td>\n",
       "      <td>BOWRY BAY</td>\n",
       "      <td>WATER POLL CONTROL</td>\n",
       "      <td>NaN</td>\n",
       "      <td>QUEENS</td>\n",
       "      <td>Queens</td>\n",
       "      <td>NaN</td>\n",
       "      <td>4101</td>\n",
       "      <td>2</td>\n",
       "      <td>08/21/2004</td>\n",
       "      <td>08/21/2004</td>\n",
       "      <td>Other</td>\n",
       "      <td>EAST RIVER</td>\n",
       "      <td>Unknown</td>\n",
       "      <td>09/17/2004</td>\n",
       "      <td>raw sewage</td>\n",
       "      <td>Other</td>\n",
       "      <td>0.0</td>\n",
       "      <td>NaN</td>\n",
       "      <td>0.0</td>\n",
       "    </tr>\n",
       "    <tr>\n",
       "      <th>2</th>\n",
       "      <td>405586</td>\n",
       "      <td>BOWRY BAY</td>\n",
       "      <td>WATER POLL CONTROL</td>\n",
       "      <td>NaN</td>\n",
       "      <td>QUEENS</td>\n",
       "      <td>Queens</td>\n",
       "      <td>NaN</td>\n",
       "      <td>4101</td>\n",
       "      <td>2</td>\n",
       "      <td>08/21/2004</td>\n",
       "      <td>08/21/2004</td>\n",
       "      <td>Other</td>\n",
       "      <td>EAST RIVER</td>\n",
       "      <td>Unknown</td>\n",
       "      <td>09/17/2004</td>\n",
       "      <td>raw sewage</td>\n",
       "      <td>Other</td>\n",
       "      <td>0.0</td>\n",
       "      <td>Pounds</td>\n",
       "      <td>0.0</td>\n",
       "    </tr>\n",
       "    <tr>\n",
       "      <th>3</th>\n",
       "      <td>204667</td>\n",
       "      <td>POLE 16091</td>\n",
       "      <td>GRACE AVE/BURKE AVE</td>\n",
       "      <td>NaN</td>\n",
       "      <td>BRONX</td>\n",
       "      <td>Bronx</td>\n",
       "      <td>NaN</td>\n",
       "      <td>301</td>\n",
       "      <td>2</td>\n",
       "      <td>08/02/2002</td>\n",
       "      <td>08/02/2002</td>\n",
       "      <td>Equipment Failure</td>\n",
       "      <td>NaN</td>\n",
       "      <td>Commercial/Industrial</td>\n",
       "      <td>10/28/2002</td>\n",
       "      <td>transformer oil</td>\n",
       "      <td>Petroleum</td>\n",
       "      <td>1.0</td>\n",
       "      <td>Gallons</td>\n",
       "      <td>0.0</td>\n",
       "    </tr>\n",
       "    <tr>\n",
       "      <th>4</th>\n",
       "      <td>210559</td>\n",
       "      <td>POLE ON</td>\n",
       "      <td>FERDALE LOMIS RD / RT 52</td>\n",
       "      <td>NaN</td>\n",
       "      <td>LIBERTY</td>\n",
       "      <td>Sullivan</td>\n",
       "      <td>NaN</td>\n",
       "      <td>5336</td>\n",
       "      <td>3</td>\n",
       "      <td>01/20/2003</td>\n",
       "      <td>01/20/2003</td>\n",
       "      <td>Traffic Accident</td>\n",
       "      <td>NaN</td>\n",
       "      <td>Commercial/Industrial</td>\n",
       "      <td>01/22/2003</td>\n",
       "      <td>transformer oil</td>\n",
       "      <td>Petroleum</td>\n",
       "      <td>6.0</td>\n",
       "      <td>Gallons</td>\n",
       "      <td>6.0</td>\n",
       "    </tr>\n",
       "  </tbody>\n",
       "</table>\n",
       "</div>"
      ],
      "text/plain": [
       "   Spill Number Program Facility Name                  Street 1 Street 2  \\\n",
       "0        107132                MH 864        RT 119/MILLWOOD RD      NaN   \n",
       "1        405586             BOWRY BAY        WATER POLL CONTROL      NaN   \n",
       "2        405586             BOWRY BAY        WATER POLL CONTROL      NaN   \n",
       "3        204667            POLE 16091       GRACE AVE/BURKE AVE      NaN   \n",
       "4        210559               POLE ON  FERDALE LOMIS RD / RT 52      NaN   \n",
       "\n",
       "   Locality       County ZIP Code  SWIS Code  DEC Region  Spill Date  \\\n",
       "0  ELMSFORD  Westchester      NaN       6000           3  10/10/2001   \n",
       "1    QUEENS       Queens      NaN       4101           2  08/21/2004   \n",
       "2    QUEENS       Queens      NaN       4101           2  08/21/2004   \n",
       "3     BRONX        Bronx      NaN        301           2  08/02/2002   \n",
       "4   LIBERTY     Sullivan      NaN       5336           3  01/20/2003   \n",
       "\n",
       "  Received Date Contributing Factor   Waterbody                 Source  \\\n",
       "0    10/10/2001             Unknown         NaN                Unknown   \n",
       "1    08/21/2004               Other  EAST RIVER                Unknown   \n",
       "2    08/21/2004               Other  EAST RIVER                Unknown   \n",
       "3    08/02/2002   Equipment Failure         NaN  Commercial/Industrial   \n",
       "4    01/20/2003    Traffic Accident         NaN  Commercial/Industrial   \n",
       "\n",
       "   Close Date     Material Name Material Family  Quantity    Units  Recovered  \n",
       "0  10/15/2001  unknown material           Other      10.0  Gallons        0.0  \n",
       "1  09/17/2004        raw sewage           Other       0.0      NaN        0.0  \n",
       "2  09/17/2004        raw sewage           Other       0.0   Pounds        0.0  \n",
       "3  10/28/2002   transformer oil       Petroleum       1.0  Gallons        0.0  \n",
       "4  01/22/2003   transformer oil       Petroleum       6.0  Gallons        6.0  "
      ]
     },
     "execution_count": 3,
     "metadata": {},
     "output_type": "execute_result"
    }
   ],
   "source": [
    "# a. Look at the head of spills\n",
    "spills.head()\n"
   ]
  },
  {
   "cell_type": "code",
   "execution_count": 4,
   "metadata": {},
   "outputs": [
    {
     "data": {
      "text/plain": [
       "Spill Number               int64\n",
       "Program Facility Name     object\n",
       "Street 1                  object\n",
       "Street 2                  object\n",
       "Locality                  object\n",
       "County                    object\n",
       "ZIP Code                  object\n",
       "SWIS Code                  int64\n",
       "DEC Region                 int64\n",
       "Spill Date                object\n",
       "Received Date             object\n",
       "Contributing Factor       object\n",
       "Waterbody                 object\n",
       "Source                    object\n",
       "Close Date                object\n",
       "Material Name             object\n",
       "Material Family           object\n",
       "Quantity                 float64\n",
       "Units                     object\n",
       "Recovered                float64\n",
       "dtype: object"
      ]
     },
     "execution_count": 4,
     "metadata": {},
     "output_type": "execute_result"
    }
   ],
   "source": [
    "# b. Check the data types of the columns in spills\n",
    "spills.dtypes\n"
   ]
  },
  {
   "cell_type": "code",
   "execution_count": 5,
   "metadata": {},
   "outputs": [
    {
     "data": {
      "text/plain": [
       "array(['Other', 'Petroleum', 'Hazardous Material', 'Oxygenates'],\n",
       "      dtype=object)"
      ]
     },
     "execution_count": 5,
     "metadata": {},
     "output_type": "execute_result"
    }
   ],
   "source": [
    "# c. Check the unique values in the `material_family` column\n",
    "spills['Material Family'].unique()\n"
   ]
  },
  {
   "cell_type": "code",
   "execution_count": 5,
   "metadata": {},
   "outputs": [
    {
     "data": {
      "text/plain": [
       "array(['Westchester', 'Queens', 'Bronx', 'Sullivan', 'Cortland',\n",
       "       'New York', 'Ulster', 'Kings', 'Orange', 'Dutchess', 'Onondaga',\n",
       "       'Saratoga', 'Cayuga', 'Oswego', 'Warren', 'Niagara', 'Rockland',\n",
       "       'Nassau', 'Jefferson', 'Schenectady', 'Albany', 'Monroe',\n",
       "       'Schuyler', 'St Lawrence', 'Richmond', 'Clinton', 'Lewis', 'Essex',\n",
       "       'Chenango', 'Erie', 'Livingston', 'Wayne', 'Suffolk', 'Orleans',\n",
       "       'Ontario', 'Genesee', 'Otsego', 'Tompkins', 'Madison', 'Chemung',\n",
       "       'Seneca', 'Oneida', 'Broome', 'Hamilton', 'Washington', 'Franklin',\n",
       "       'Columbia', 'Fulton', 'Herkimer', 'Schoharie', 'Rensselaer',\n",
       "       'Montgomery', 'Putnam', 'Delaware', 'New Jersey - Region 2',\n",
       "       'Steuben', 'Tioga', 'Chautauqua', 'Cattaraugus', 'Wyoming',\n",
       "       'Yates', 'Greene', 'Pennsylvania - Region 9', 'Allegany',\n",
       "       'New Jersey - Region 3 (N)', 'Cattaraugus Indian Reservation',\n",
       "       'New Jersey - Region 3 (T)', 'Canada - Region 6',\n",
       "       'Canada - Region 9', 'Pennsylvania - Region 8',\n",
       "       'Vermont - Region 5 (R)', 'Vermont - Region 4',\n",
       "       'Connecticut - Region 3 (N)', 'Pennsylvania - Region 3',\n",
       "       'Tuscarora Indian Reservation', 'Connecticut - Region 4',\n",
       "       'Connecticut - Region 3 (T)', 'Massachusetts - Region 4',\n",
       "       'Connecticut - Region 1', 'Canada - Region 8',\n",
       "       'Oil Springs Indian Reservation', 'Canada - Region 5',\n",
       "       'Poospatuck Indian Reservation', 'Onondaga Indian Reservation',\n",
       "       'Shinnecock Indian Reservation',\n",
       "       'St. Regis Indian Reservation - Region 5',\n",
       "       'Pennsylvania - Region 7'], dtype=object)"
      ]
     },
     "execution_count": 5,
     "metadata": {},
     "output_type": "execute_result"
    }
   ],
   "source": [
    "# d. Check the unique values in the `county` column\n",
    "spills.County.unique()\n"
   ]
  },
  {
   "cell_type": "markdown",
   "metadata": {
    "deletable": false,
    "editable": false
   },
   "source": [
    "<!-- BEGIN QUESTION -->\n",
    "\n",
    "f. Use the next markdown cell to explain what information you obtained from the preliminary exploration. Use complete sentences."
   ]
  },
  {
   "cell_type": "markdown",
   "metadata": {
    "deletable": false,
    "editable": false
   },
   "source": [
    "<!-- END QUESTION -->\n",
    "\n",
    "From the preliminary exploration of the spills data, I gained information about each column that the dataframe contains, the data type of each column, the types of materials that were spilled, and the counties that are included in the data. Things that stood out to me were that the date columns is not type datetime, zipcode column is a string type, and that oil spills are materical family 'Petroleum'."
   ]
  },
  {
   "cell_type": "markdown",
   "metadata": {},
   "source": [
    "### 5.B. Cleaning\n",
    "a. Simplify column names as needed.\n",
    "\n",
    "b. Update column data types as needed. If you're not sure if any data types are needed at this point, you may come back later to this cell."
   ]
  },
  {
   "cell_type": "code",
   "execution_count": 8,
   "metadata": {},
   "outputs": [
    {
     "data": {
      "text/plain": [
       "Index(['spill_number', 'program_facility_name', 'street_1', 'street_2',\n",
       "       'locality', 'county', 'zip_code', 'swis_code', 'dec_region',\n",
       "       'spill_date', 'received_date', 'contributing_factor', 'waterbody',\n",
       "       'source', 'close_date', 'material_name', 'material_family', 'quantity',\n",
       "       'units', 'recovered'],\n",
       "      dtype='object')"
      ]
     },
     "execution_count": 8,
     "metadata": {},
     "output_type": "execute_result"
    }
   ],
   "source": [
    "# a. Convert column names to lower snake case\n",
    "spills.columns = (spills.columns\n",
    "                        .str.lower()\n",
    "                        .str.replace(\" \", \"_\")\n",
    "                  )\n",
    "spills.columns\n"
   ]
  },
  {
   "cell_type": "code",
   "execution_count": 9,
   "metadata": {},
   "outputs": [
    {
     "data": {
      "text/plain": [
       "spill_number                      int64\n",
       "program_facility_name            object\n",
       "street_1                         object\n",
       "street_2                         object\n",
       "locality                         object\n",
       "county                           object\n",
       "zip_code                         object\n",
       "swis_code                         int64\n",
       "dec_region                        int64\n",
       "spill_date               datetime64[ns]\n",
       "received_date                    object\n",
       "contributing_factor              object\n",
       "waterbody                        object\n",
       "source                           object\n",
       "close_date                       object\n",
       "material_name                    object\n",
       "material_family                  object\n",
       "quantity                        float64\n",
       "units                            object\n",
       "recovered                       float64\n",
       "dtype: object"
      ]
     },
     "execution_count": 9,
     "metadata": {},
     "output_type": "execute_result"
    }
   ],
   "source": [
    "# b. Convert spill date column to datetime\n",
    "spills.spill_date = pd.to_datetime(spills.spill_date)\n",
    "spills.dtypes"
   ]
  },
  {
   "cell_type": "markdown",
   "metadata": {},
   "source": [
    "### 5.C. Data selection\n",
    "\n",
    "a. Select data about petroleum spills that took place between January 1st 2023, and October 31st 2023 (including both dates). Store it in a variable named `petr_23`. The data selection should occur in a single line. You may add cells as needed."
   ]
  },
  {
   "cell_type": "code",
   "execution_count": 10,
   "metadata": {},
   "outputs": [
    {
     "data": {
      "text/html": [
       "<div>\n",
       "<style scoped>\n",
       "    .dataframe tbody tr th:only-of-type {\n",
       "        vertical-align: middle;\n",
       "    }\n",
       "\n",
       "    .dataframe tbody tr th {\n",
       "        vertical-align: top;\n",
       "    }\n",
       "\n",
       "    .dataframe thead th {\n",
       "        text-align: right;\n",
       "    }\n",
       "</style>\n",
       "<table border=\"1\" class=\"dataframe\">\n",
       "  <thead>\n",
       "    <tr style=\"text-align: right;\">\n",
       "      <th></th>\n",
       "      <th>spill_number</th>\n",
       "      <th>program_facility_name</th>\n",
       "      <th>street_1</th>\n",
       "      <th>street_2</th>\n",
       "      <th>locality</th>\n",
       "      <th>county</th>\n",
       "      <th>zip_code</th>\n",
       "      <th>swis_code</th>\n",
       "      <th>dec_region</th>\n",
       "      <th>spill_date</th>\n",
       "      <th>received_date</th>\n",
       "      <th>contributing_factor</th>\n",
       "      <th>waterbody</th>\n",
       "      <th>source</th>\n",
       "      <th>close_date</th>\n",
       "      <th>material_name</th>\n",
       "      <th>material_family</th>\n",
       "      <th>quantity</th>\n",
       "      <th>units</th>\n",
       "      <th>recovered</th>\n",
       "    </tr>\n",
       "  </thead>\n",
       "  <tbody>\n",
       "    <tr>\n",
       "      <th>220</th>\n",
       "      <td>2301892</td>\n",
       "      <td>*** TEST SPILL ***</td>\n",
       "      <td>*** TEST SPILL ***</td>\n",
       "      <td>NaN</td>\n",
       "      <td>*** TEST SPILL ***</td>\n",
       "      <td>Onondaga</td>\n",
       "      <td>00000</td>\n",
       "      <td>3415</td>\n",
       "      <td>7</td>\n",
       "      <td>2023-06-06</td>\n",
       "      <td>06/06/2023</td>\n",
       "      <td>Tank Test Failure</td>\n",
       "      <td>NaN</td>\n",
       "      <td>Unknown</td>\n",
       "      <td>07/12/2023</td>\n",
       "      <td>diesel</td>\n",
       "      <td>Petroleum</td>\n",
       "      <td>0.0</td>\n",
       "      <td>NaN</td>\n",
       "      <td>0.0</td>\n",
       "    </tr>\n",
       "    <tr>\n",
       "      <th>221</th>\n",
       "      <td>2301892</td>\n",
       "      <td>*** TEST SPILL ***</td>\n",
       "      <td>*** TEST SPILL ***</td>\n",
       "      <td>NaN</td>\n",
       "      <td>*** TEST SPILL ***</td>\n",
       "      <td>Onondaga</td>\n",
       "      <td>00000</td>\n",
       "      <td>3415</td>\n",
       "      <td>7</td>\n",
       "      <td>2023-06-06</td>\n",
       "      <td>06/06/2023</td>\n",
       "      <td>Tank Test Failure</td>\n",
       "      <td>NaN</td>\n",
       "      <td>Unknown</td>\n",
       "      <td>07/12/2023</td>\n",
       "      <td>#2 fuel oil</td>\n",
       "      <td>Petroleum</td>\n",
       "      <td>0.0</td>\n",
       "      <td>Gallons</td>\n",
       "      <td>0.0</td>\n",
       "    </tr>\n",
       "    <tr>\n",
       "      <th>222</th>\n",
       "      <td>2301892</td>\n",
       "      <td>*** TEST SPILL ***</td>\n",
       "      <td>*** TEST SPILL ***</td>\n",
       "      <td>NaN</td>\n",
       "      <td>*** TEST SPILL ***</td>\n",
       "      <td>Onondaga</td>\n",
       "      <td>00000</td>\n",
       "      <td>3415</td>\n",
       "      <td>7</td>\n",
       "      <td>2023-06-06</td>\n",
       "      <td>06/06/2023</td>\n",
       "      <td>Tank Test Failure</td>\n",
       "      <td>NaN</td>\n",
       "      <td>Unknown</td>\n",
       "      <td>07/12/2023</td>\n",
       "      <td>gasoline</td>\n",
       "      <td>Petroleum</td>\n",
       "      <td>0.0</td>\n",
       "      <td>NaN</td>\n",
       "      <td>0.0</td>\n",
       "    </tr>\n",
       "    <tr>\n",
       "      <th>223</th>\n",
       "      <td>2301892</td>\n",
       "      <td>*** TEST SPILL ***</td>\n",
       "      <td>*** TEST SPILL ***</td>\n",
       "      <td>NaN</td>\n",
       "      <td>*** TEST SPILL ***</td>\n",
       "      <td>Onondaga</td>\n",
       "      <td>00000</td>\n",
       "      <td>3415</td>\n",
       "      <td>7</td>\n",
       "      <td>2023-06-06</td>\n",
       "      <td>06/06/2023</td>\n",
       "      <td>Tank Test Failure</td>\n",
       "      <td>NaN</td>\n",
       "      <td>Unknown</td>\n",
       "      <td>07/12/2023</td>\n",
       "      <td>kerosene [#1 fuel oil] (on-site consumption)</td>\n",
       "      <td>Petroleum</td>\n",
       "      <td>0.0</td>\n",
       "      <td>NaN</td>\n",
       "      <td>0.0</td>\n",
       "    </tr>\n",
       "    <tr>\n",
       "      <th>224</th>\n",
       "      <td>2301892</td>\n",
       "      <td>*** TEST SPILL ***</td>\n",
       "      <td>*** TEST SPILL ***</td>\n",
       "      <td>NaN</td>\n",
       "      <td>*** TEST SPILL ***</td>\n",
       "      <td>Onondaga</td>\n",
       "      <td>00000</td>\n",
       "      <td>3415</td>\n",
       "      <td>7</td>\n",
       "      <td>2023-06-06</td>\n",
       "      <td>06/06/2023</td>\n",
       "      <td>Tank Test Failure</td>\n",
       "      <td>NaN</td>\n",
       "      <td>Unknown</td>\n",
       "      <td>07/12/2023</td>\n",
       "      <td>used oil (heating, on-site consumption)</td>\n",
       "      <td>Petroleum</td>\n",
       "      <td>0.0</td>\n",
       "      <td>NaN</td>\n",
       "      <td>0.0</td>\n",
       "    </tr>\n",
       "    <tr>\n",
       "      <th>...</th>\n",
       "      <td>...</td>\n",
       "      <td>...</td>\n",
       "      <td>...</td>\n",
       "      <td>...</td>\n",
       "      <td>...</td>\n",
       "      <td>...</td>\n",
       "      <td>...</td>\n",
       "      <td>...</td>\n",
       "      <td>...</td>\n",
       "      <td>...</td>\n",
       "      <td>...</td>\n",
       "      <td>...</td>\n",
       "      <td>...</td>\n",
       "      <td>...</td>\n",
       "      <td>...</td>\n",
       "      <td>...</td>\n",
       "      <td>...</td>\n",
       "      <td>...</td>\n",
       "      <td>...</td>\n",
       "      <td>...</td>\n",
       "    </tr>\n",
       "    <tr>\n",
       "      <th>552588</th>\n",
       "      <td>2306261</td>\n",
       "      <td>ZHANG RESIDENCE</td>\n",
       "      <td>10 LINCOLN AVE</td>\n",
       "      <td>NaN</td>\n",
       "      <td>ROSLYN</td>\n",
       "      <td>Nassau</td>\n",
       "      <td>NaN</td>\n",
       "      <td>3022</td>\n",
       "      <td>1</td>\n",
       "      <td>2023-10-23</td>\n",
       "      <td>10/23/2023</td>\n",
       "      <td>Equipment Failure</td>\n",
       "      <td>NaN</td>\n",
       "      <td>Private Dwelling</td>\n",
       "      <td>12/01/2023</td>\n",
       "      <td>#2 fuel oil</td>\n",
       "      <td>Petroleum</td>\n",
       "      <td>0.0</td>\n",
       "      <td>NaN</td>\n",
       "      <td>0.0</td>\n",
       "    </tr>\n",
       "    <tr>\n",
       "      <th>552593</th>\n",
       "      <td>2303072</td>\n",
       "      <td>ZHANG RESIDENCE</td>\n",
       "      <td>93 CHERRY LANE</td>\n",
       "      <td>NaN</td>\n",
       "      <td>HICKSVILLE</td>\n",
       "      <td>Nassau</td>\n",
       "      <td>NaN</td>\n",
       "      <td>3024</td>\n",
       "      <td>1</td>\n",
       "      <td>2023-07-14</td>\n",
       "      <td>07/14/2023</td>\n",
       "      <td>Equipment Failure</td>\n",
       "      <td>NaN</td>\n",
       "      <td>Private Dwelling</td>\n",
       "      <td>09/18/2023</td>\n",
       "      <td>#2 fuel oil</td>\n",
       "      <td>Petroleum</td>\n",
       "      <td>0.0</td>\n",
       "      <td>NaN</td>\n",
       "      <td>0.0</td>\n",
       "    </tr>\n",
       "    <tr>\n",
       "      <th>552701</th>\n",
       "      <td>2208304</td>\n",
       "      <td>ZIMMERMAN - UST</td>\n",
       "      <td>19 MOUNTAIN AVENUE</td>\n",
       "      <td>NaN</td>\n",
       "      <td>LARCHMONT</td>\n",
       "      <td>Westchester</td>\n",
       "      <td>NaN</td>\n",
       "      <td>6032</td>\n",
       "      <td>3</td>\n",
       "      <td>2023-01-10</td>\n",
       "      <td>01/10/2023</td>\n",
       "      <td>Equipment Failure</td>\n",
       "      <td>NaN</td>\n",
       "      <td>Private Dwelling</td>\n",
       "      <td>NaN</td>\n",
       "      <td>#2 fuel oil</td>\n",
       "      <td>Petroleum</td>\n",
       "      <td>0.0</td>\n",
       "      <td>NaN</td>\n",
       "      <td>0.0</td>\n",
       "    </tr>\n",
       "    <tr>\n",
       "      <th>552990</th>\n",
       "      <td>2301301</td>\n",
       "      <td>ZULTOWSKY - UST</td>\n",
       "      <td>514 PELHAM MANOR RD</td>\n",
       "      <td>NaN</td>\n",
       "      <td>PELHAM</td>\n",
       "      <td>Westchester</td>\n",
       "      <td>NaN</td>\n",
       "      <td>6044</td>\n",
       "      <td>3</td>\n",
       "      <td>2023-05-16</td>\n",
       "      <td>05/16/2023</td>\n",
       "      <td>Equipment Failure</td>\n",
       "      <td>NaN</td>\n",
       "      <td>Private Dwelling</td>\n",
       "      <td>07/11/2023</td>\n",
       "      <td>#2 fuel oil</td>\n",
       "      <td>Petroleum</td>\n",
       "      <td>0.0</td>\n",
       "      <td>NaN</td>\n",
       "      <td>0.0</td>\n",
       "    </tr>\n",
       "    <tr>\n",
       "      <th>553074</th>\n",
       "      <td>2304668</td>\n",
       "      <td>ZZ PETROLEUM</td>\n",
       "      <td>2429 RT9</td>\n",
       "      <td>NaN</td>\n",
       "      <td>MALTA</td>\n",
       "      <td>Saratoga</td>\n",
       "      <td>NaN</td>\n",
       "      <td>4640</td>\n",
       "      <td>5</td>\n",
       "      <td>2023-08-30</td>\n",
       "      <td>08/30/2023</td>\n",
       "      <td>Equipment Failure</td>\n",
       "      <td>NaN</td>\n",
       "      <td>Gasoline Station or other PBS Facility</td>\n",
       "      <td>12/21/2023</td>\n",
       "      <td>gasoline</td>\n",
       "      <td>Petroleum</td>\n",
       "      <td>0.0</td>\n",
       "      <td>NaN</td>\n",
       "      <td>0.0</td>\n",
       "    </tr>\n",
       "  </tbody>\n",
       "</table>\n",
       "<p>7220 rows × 20 columns</p>\n",
       "</div>"
      ],
      "text/plain": [
       "        spill_number program_facility_name             street_1 street_2  \\\n",
       "220          2301892    *** TEST SPILL ***   *** TEST SPILL ***      NaN   \n",
       "221          2301892    *** TEST SPILL ***   *** TEST SPILL ***      NaN   \n",
       "222          2301892    *** TEST SPILL ***   *** TEST SPILL ***      NaN   \n",
       "223          2301892    *** TEST SPILL ***   *** TEST SPILL ***      NaN   \n",
       "224          2301892    *** TEST SPILL ***   *** TEST SPILL ***      NaN   \n",
       "...              ...                   ...                  ...      ...   \n",
       "552588       2306261       ZHANG RESIDENCE       10 LINCOLN AVE      NaN   \n",
       "552593       2303072       ZHANG RESIDENCE       93 CHERRY LANE      NaN   \n",
       "552701       2208304       ZIMMERMAN - UST   19 MOUNTAIN AVENUE      NaN   \n",
       "552990       2301301       ZULTOWSKY - UST  514 PELHAM MANOR RD      NaN   \n",
       "553074       2304668          ZZ PETROLEUM             2429 RT9      NaN   \n",
       "\n",
       "                  locality       county zip_code  swis_code  dec_region  \\\n",
       "220     *** TEST SPILL ***     Onondaga    00000       3415           7   \n",
       "221     *** TEST SPILL ***     Onondaga    00000       3415           7   \n",
       "222     *** TEST SPILL ***     Onondaga    00000       3415           7   \n",
       "223     *** TEST SPILL ***     Onondaga    00000       3415           7   \n",
       "224     *** TEST SPILL ***     Onondaga    00000       3415           7   \n",
       "...                    ...          ...      ...        ...         ...   \n",
       "552588              ROSLYN       Nassau      NaN       3022           1   \n",
       "552593          HICKSVILLE       Nassau      NaN       3024           1   \n",
       "552701           LARCHMONT  Westchester      NaN       6032           3   \n",
       "552990              PELHAM  Westchester      NaN       6044           3   \n",
       "553074               MALTA     Saratoga      NaN       4640           5   \n",
       "\n",
       "       spill_date received_date contributing_factor waterbody  \\\n",
       "220    2023-06-06    06/06/2023   Tank Test Failure       NaN   \n",
       "221    2023-06-06    06/06/2023   Tank Test Failure       NaN   \n",
       "222    2023-06-06    06/06/2023   Tank Test Failure       NaN   \n",
       "223    2023-06-06    06/06/2023   Tank Test Failure       NaN   \n",
       "224    2023-06-06    06/06/2023   Tank Test Failure       NaN   \n",
       "...           ...           ...                 ...       ...   \n",
       "552588 2023-10-23    10/23/2023   Equipment Failure       NaN   \n",
       "552593 2023-07-14    07/14/2023   Equipment Failure       NaN   \n",
       "552701 2023-01-10    01/10/2023   Equipment Failure       NaN   \n",
       "552990 2023-05-16    05/16/2023   Equipment Failure       NaN   \n",
       "553074 2023-08-30    08/30/2023   Equipment Failure       NaN   \n",
       "\n",
       "                                        source  close_date  \\\n",
       "220                                    Unknown  07/12/2023   \n",
       "221                                    Unknown  07/12/2023   \n",
       "222                                    Unknown  07/12/2023   \n",
       "223                                    Unknown  07/12/2023   \n",
       "224                                    Unknown  07/12/2023   \n",
       "...                                        ...         ...   \n",
       "552588                        Private Dwelling  12/01/2023   \n",
       "552593                        Private Dwelling  09/18/2023   \n",
       "552701                        Private Dwelling         NaN   \n",
       "552990                        Private Dwelling  07/11/2023   \n",
       "553074  Gasoline Station or other PBS Facility  12/21/2023   \n",
       "\n",
       "                                       material_name material_family  \\\n",
       "220                                           diesel       Petroleum   \n",
       "221                                      #2 fuel oil       Petroleum   \n",
       "222                                         gasoline       Petroleum   \n",
       "223     kerosene [#1 fuel oil] (on-site consumption)       Petroleum   \n",
       "224          used oil (heating, on-site consumption)       Petroleum   \n",
       "...                                              ...             ...   \n",
       "552588                                   #2 fuel oil       Petroleum   \n",
       "552593                                   #2 fuel oil       Petroleum   \n",
       "552701                                   #2 fuel oil       Petroleum   \n",
       "552990                                   #2 fuel oil       Petroleum   \n",
       "553074                                      gasoline       Petroleum   \n",
       "\n",
       "        quantity    units  recovered  \n",
       "220          0.0      NaN        0.0  \n",
       "221          0.0  Gallons        0.0  \n",
       "222          0.0      NaN        0.0  \n",
       "223          0.0      NaN        0.0  \n",
       "224          0.0      NaN        0.0  \n",
       "...          ...      ...        ...  \n",
       "552588       0.0      NaN        0.0  \n",
       "552593       0.0      NaN        0.0  \n",
       "552701       0.0      NaN        0.0  \n",
       "552990       0.0      NaN        0.0  \n",
       "553074       0.0      NaN        0.0  \n",
       "\n",
       "[7220 rows x 20 columns]"
      ]
     },
     "execution_count": 10,
     "metadata": {},
     "output_type": "execute_result"
    }
   ],
   "source": [
    "# a. Select petroleum spills from 01/01/2023 to 10/31/2023\n",
    "petr_23 = spills[(spills.material_family == \"Petroleum\") & (spills.spill_date >= '2023-01-01') & (spills.spill_date <= '2023-10-31')]\n",
    "petr_23\n"
   ]
  },
  {
   "cell_type": "markdown",
   "metadata": {
    "deletable": false,
    "editable": false
   },
   "source": [
    "<!-- BEGIN QUESTION -->\n",
    "\n",
    "b. Use `print()` and f-strings to print messages verifying that `petr_23` only has data for 2023 and from January through October.\n",
    "HINT: [pandas.Series.dt.year](https://pandas.pydata.org/docs/reference/api/pandas.Series.dt.year.html) and [pandas.Series.dt.month](https://pandas.pydata.org/docs/reference/api/pandas.Series.dt.month.html)."
   ]
  },
  {
   "cell_type": "code",
   "execution_count": 12,
   "metadata": {
    "tags": []
   },
   "outputs": [
    {
     "name": "stdout",
     "output_type": "stream",
     "text": [
      "petr_23 contains only data for year [2023]\n",
      "petr_23 contains only data for months [ 6  8  9  7  1  2  3 10  5  4]\n"
     ]
    }
   ],
   "source": [
    "# b. Verify that petr_23 only has data for 2023 from January through October\n",
    "print(f\"petr_23 contains only data for year {petr_23.spill_date.dt.year.unique()}\")\n",
    "print(f\"petr_23 contains only data for months {petr_23.spill_date.dt.month.unique()}\")"
   ]
  },
  {
   "cell_type": "markdown",
   "metadata": {
    "deletable": false,
    "editable": false
   },
   "source": [
    "<!-- END QUESTION -->\n",
    "\n",
    "<!-- BEGIN QUESTION -->\n",
    "\n",
    "c. Write tests using `assert` to verify that `petr_23` only has data for petroleum spills."
   ]
  },
  {
   "cell_type": "code",
   "execution_count": 13,
   "metadata": {
    "tags": []
   },
   "outputs": [],
   "source": [
    "# c. Verify that petr_23 only has data for petroleum spills\n",
    "assert petr_23.material_family.unique() == \"Petroleum\""
   ]
  },
  {
   "cell_type": "markdown",
   "metadata": {
    "deletable": false,
    "editable": false
   },
   "source": [
    "<!-- END QUESTION -->\n",
    "\n",
    "### 5.D. Data aggregation\n",
    "\n",
    "Create new data frame named `spills_per_county` with the number of petroleum spills per county from January to October 2023 (i.e. use the `petr_23` dataframe).\n",
    "\n",
    "The resulting `spills_per_county` dataframe must be as follows:\n",
    "\n",
    "- Index: integer numbers starting from 0\n",
    "- Data frame has two columns only:\n",
    "    - Column one: county names, column name = `county`\n",
    "    - Column two: number of petroleum spills per county in 2023, column name = `n_spills`\n",
    "\n",
    "You may add cells if needed.\n"
   ]
  },
  {
   "cell_type": "code",
   "execution_count": 14,
   "metadata": {
    "tags": []
   },
   "outputs": [
    {
     "data": {
      "text/html": [
       "<div>\n",
       "<style scoped>\n",
       "    .dataframe tbody tr th:only-of-type {\n",
       "        vertical-align: middle;\n",
       "    }\n",
       "\n",
       "    .dataframe tbody tr th {\n",
       "        vertical-align: top;\n",
       "    }\n",
       "\n",
       "    .dataframe thead th {\n",
       "        text-align: right;\n",
       "    }\n",
       "</style>\n",
       "<table border=\"1\" class=\"dataframe\">\n",
       "  <thead>\n",
       "    <tr style=\"text-align: right;\">\n",
       "      <th></th>\n",
       "      <th>county</th>\n",
       "      <th>n_spills</th>\n",
       "    </tr>\n",
       "  </thead>\n",
       "  <tbody>\n",
       "    <tr>\n",
       "      <th>0</th>\n",
       "      <td>Albany</td>\n",
       "      <td>205</td>\n",
       "    </tr>\n",
       "    <tr>\n",
       "      <th>1</th>\n",
       "      <td>Allegany</td>\n",
       "      <td>30</td>\n",
       "    </tr>\n",
       "    <tr>\n",
       "      <th>2</th>\n",
       "      <td>Bronx</td>\n",
       "      <td>143</td>\n",
       "    </tr>\n",
       "    <tr>\n",
       "      <th>3</th>\n",
       "      <td>Broome</td>\n",
       "      <td>75</td>\n",
       "    </tr>\n",
       "    <tr>\n",
       "      <th>4</th>\n",
       "      <td>Cattaraugus</td>\n",
       "      <td>47</td>\n",
       "    </tr>\n",
       "    <tr>\n",
       "      <th>...</th>\n",
       "      <td>...</td>\n",
       "      <td>...</td>\n",
       "    </tr>\n",
       "    <tr>\n",
       "      <th>59</th>\n",
       "      <td>Washington</td>\n",
       "      <td>96</td>\n",
       "    </tr>\n",
       "    <tr>\n",
       "      <th>60</th>\n",
       "      <td>Wayne</td>\n",
       "      <td>38</td>\n",
       "    </tr>\n",
       "    <tr>\n",
       "      <th>61</th>\n",
       "      <td>Westchester</td>\n",
       "      <td>743</td>\n",
       "    </tr>\n",
       "    <tr>\n",
       "      <th>62</th>\n",
       "      <td>Wyoming</td>\n",
       "      <td>24</td>\n",
       "    </tr>\n",
       "    <tr>\n",
       "      <th>63</th>\n",
       "      <td>Yates</td>\n",
       "      <td>6</td>\n",
       "    </tr>\n",
       "  </tbody>\n",
       "</table>\n",
       "<p>64 rows × 2 columns</p>\n",
       "</div>"
      ],
      "text/plain": [
       "         county  n_spills\n",
       "0        Albany       205\n",
       "1      Allegany        30\n",
       "2         Bronx       143\n",
       "3        Broome        75\n",
       "4   Cattaraugus        47\n",
       "..          ...       ...\n",
       "59   Washington        96\n",
       "60        Wayne        38\n",
       "61  Westchester       743\n",
       "62      Wyoming        24\n",
       "63        Yates         6\n",
       "\n",
       "[64 rows x 2 columns]"
      ]
     },
     "execution_count": 14,
     "metadata": {},
     "output_type": "execute_result"
    }
   ],
   "source": [
    "# Find number of petroleum spills per county\n",
    "spills_per_county = (petr_23.groupby('county')\n",
    "                            .material_family\n",
    "                            .count()\n",
    "                            .rename('n_spills')\n",
    "                            .reset_index()\n",
    "                     )\n",
    "spills_per_county"
   ]
  },
  {
   "cell_type": "markdown",
   "metadata": {},
   "source": [
    "## 6. Prepare counties data\n",
    "\n",
    "This section refers to the `counties` geo-dataframe. \n",
    "Check the outputs carefully, they will give you context about the next exercises.\n",
    "\n",
    "### 6.A. Exploration\n",
    "\n",
    "In the next cells:\n",
    "\n",
    "a. Check the geo-dataframe's head.\n",
    "\n",
    "b. Check the data types of the columns.\n",
    "\n",
    "c. Check the geo-dataframe's CRS.\n",
    "\n",
    "d. Plot the geo-dataframe.\n",
    "\n",
    "You can add any other cells of preliminary data exploration."
   ]
  },
  {
   "cell_type": "code",
   "execution_count": 15,
   "metadata": {},
   "outputs": [
    {
     "data": {
      "text/html": [
       "<div>\n",
       "<style scoped>\n",
       "    .dataframe tbody tr th:only-of-type {\n",
       "        vertical-align: middle;\n",
       "    }\n",
       "\n",
       "    .dataframe tbody tr th {\n",
       "        vertical-align: top;\n",
       "    }\n",
       "\n",
       "    .dataframe thead th {\n",
       "        text-align: right;\n",
       "    }\n",
       "</style>\n",
       "<table border=\"1\" class=\"dataframe\">\n",
       "  <thead>\n",
       "    <tr style=\"text-align: right;\">\n",
       "      <th></th>\n",
       "      <th>STATEFP</th>\n",
       "      <th>COUNTYFP</th>\n",
       "      <th>COUNTYNS</th>\n",
       "      <th>GEOID</th>\n",
       "      <th>GEOIDFQ</th>\n",
       "      <th>NAME</th>\n",
       "      <th>NAMELSAD</th>\n",
       "      <th>LSAD</th>\n",
       "      <th>CLASSFP</th>\n",
       "      <th>MTFCC</th>\n",
       "      <th>CSAFP</th>\n",
       "      <th>CBSAFP</th>\n",
       "      <th>METDIVFP</th>\n",
       "      <th>FUNCSTAT</th>\n",
       "      <th>ALAND</th>\n",
       "      <th>AWATER</th>\n",
       "      <th>INTPTLAT</th>\n",
       "      <th>INTPTLON</th>\n",
       "      <th>geometry</th>\n",
       "    </tr>\n",
       "  </thead>\n",
       "  <tbody>\n",
       "    <tr>\n",
       "      <th>0</th>\n",
       "      <td>31</td>\n",
       "      <td>039</td>\n",
       "      <td>00835841</td>\n",
       "      <td>31039</td>\n",
       "      <td>0500000US31039</td>\n",
       "      <td>Cuming</td>\n",
       "      <td>Cuming County</td>\n",
       "      <td>06</td>\n",
       "      <td>H1</td>\n",
       "      <td>G4020</td>\n",
       "      <td>None</td>\n",
       "      <td>None</td>\n",
       "      <td>None</td>\n",
       "      <td>A</td>\n",
       "      <td>1477563029</td>\n",
       "      <td>10772508</td>\n",
       "      <td>+41.9158651</td>\n",
       "      <td>-096.7885168</td>\n",
       "      <td>POLYGON ((-96.55515 41.91587, -96.55515 41.914...</td>\n",
       "    </tr>\n",
       "    <tr>\n",
       "      <th>1</th>\n",
       "      <td>53</td>\n",
       "      <td>069</td>\n",
       "      <td>01513275</td>\n",
       "      <td>53069</td>\n",
       "      <td>0500000US53069</td>\n",
       "      <td>Wahkiakum</td>\n",
       "      <td>Wahkiakum County</td>\n",
       "      <td>06</td>\n",
       "      <td>H1</td>\n",
       "      <td>G4020</td>\n",
       "      <td>None</td>\n",
       "      <td>None</td>\n",
       "      <td>None</td>\n",
       "      <td>A</td>\n",
       "      <td>680980771</td>\n",
       "      <td>61564427</td>\n",
       "      <td>+46.2946377</td>\n",
       "      <td>-123.4244583</td>\n",
       "      <td>POLYGON ((-123.72755 46.26449, -123.72755 46.2...</td>\n",
       "    </tr>\n",
       "    <tr>\n",
       "      <th>2</th>\n",
       "      <td>35</td>\n",
       "      <td>011</td>\n",
       "      <td>00933054</td>\n",
       "      <td>35011</td>\n",
       "      <td>0500000US35011</td>\n",
       "      <td>De Baca</td>\n",
       "      <td>De Baca County</td>\n",
       "      <td>06</td>\n",
       "      <td>H1</td>\n",
       "      <td>G4020</td>\n",
       "      <td>None</td>\n",
       "      <td>None</td>\n",
       "      <td>None</td>\n",
       "      <td>A</td>\n",
       "      <td>6016818946</td>\n",
       "      <td>29090018</td>\n",
       "      <td>+34.3592729</td>\n",
       "      <td>-104.3686961</td>\n",
       "      <td>POLYGON ((-104.89337 34.08894, -104.89337 34.0...</td>\n",
       "    </tr>\n",
       "    <tr>\n",
       "      <th>3</th>\n",
       "      <td>31</td>\n",
       "      <td>109</td>\n",
       "      <td>00835876</td>\n",
       "      <td>31109</td>\n",
       "      <td>0500000US31109</td>\n",
       "      <td>Lancaster</td>\n",
       "      <td>Lancaster County</td>\n",
       "      <td>06</td>\n",
       "      <td>H1</td>\n",
       "      <td>G4020</td>\n",
       "      <td>339</td>\n",
       "      <td>30700</td>\n",
       "      <td>None</td>\n",
       "      <td>A</td>\n",
       "      <td>2169269688</td>\n",
       "      <td>22850324</td>\n",
       "      <td>+40.7835474</td>\n",
       "      <td>-096.6886584</td>\n",
       "      <td>POLYGON ((-96.68493 40.52330, -96.69219 40.523...</td>\n",
       "    </tr>\n",
       "    <tr>\n",
       "      <th>4</th>\n",
       "      <td>31</td>\n",
       "      <td>129</td>\n",
       "      <td>00835886</td>\n",
       "      <td>31129</td>\n",
       "      <td>0500000US31129</td>\n",
       "      <td>Nuckolls</td>\n",
       "      <td>Nuckolls County</td>\n",
       "      <td>06</td>\n",
       "      <td>H1</td>\n",
       "      <td>G4020</td>\n",
       "      <td>None</td>\n",
       "      <td>None</td>\n",
       "      <td>None</td>\n",
       "      <td>A</td>\n",
       "      <td>1489645187</td>\n",
       "      <td>1718484</td>\n",
       "      <td>+40.1764918</td>\n",
       "      <td>-098.0468422</td>\n",
       "      <td>POLYGON ((-98.27370 40.11840, -98.27374 40.122...</td>\n",
       "    </tr>\n",
       "  </tbody>\n",
       "</table>\n",
       "</div>"
      ],
      "text/plain": [
       "  STATEFP COUNTYFP  COUNTYNS  GEOID         GEOIDFQ       NAME  \\\n",
       "0      31      039  00835841  31039  0500000US31039     Cuming   \n",
       "1      53      069  01513275  53069  0500000US53069  Wahkiakum   \n",
       "2      35      011  00933054  35011  0500000US35011    De Baca   \n",
       "3      31      109  00835876  31109  0500000US31109  Lancaster   \n",
       "4      31      129  00835886  31129  0500000US31129   Nuckolls   \n",
       "\n",
       "           NAMELSAD LSAD CLASSFP  MTFCC CSAFP CBSAFP METDIVFP FUNCSTAT  \\\n",
       "0     Cuming County   06      H1  G4020  None   None     None        A   \n",
       "1  Wahkiakum County   06      H1  G4020  None   None     None        A   \n",
       "2    De Baca County   06      H1  G4020  None   None     None        A   \n",
       "3  Lancaster County   06      H1  G4020   339  30700     None        A   \n",
       "4   Nuckolls County   06      H1  G4020  None   None     None        A   \n",
       "\n",
       "        ALAND    AWATER     INTPTLAT      INTPTLON  \\\n",
       "0  1477563029  10772508  +41.9158651  -096.7885168   \n",
       "1   680980771  61564427  +46.2946377  -123.4244583   \n",
       "2  6016818946  29090018  +34.3592729  -104.3686961   \n",
       "3  2169269688  22850324  +40.7835474  -096.6886584   \n",
       "4  1489645187   1718484  +40.1764918  -098.0468422   \n",
       "\n",
       "                                            geometry  \n",
       "0  POLYGON ((-96.55515 41.91587, -96.55515 41.914...  \n",
       "1  POLYGON ((-123.72755 46.26449, -123.72755 46.2...  \n",
       "2  POLYGON ((-104.89337 34.08894, -104.89337 34.0...  \n",
       "3  POLYGON ((-96.68493 40.52330, -96.69219 40.523...  \n",
       "4  POLYGON ((-98.27370 40.11840, -98.27374 40.122...  "
      ]
     },
     "execution_count": 15,
     "metadata": {},
     "output_type": "execute_result"
    }
   ],
   "source": [
    "# a. Check the head of counties\n",
    "counties.head()"
   ]
  },
  {
   "cell_type": "code",
   "execution_count": 16,
   "metadata": {},
   "outputs": [
    {
     "data": {
      "text/plain": [
       "STATEFP       object\n",
       "COUNTYFP      object\n",
       "COUNTYNS      object\n",
       "GEOID         object\n",
       "GEOIDFQ       object\n",
       "NAME          object\n",
       "NAMELSAD      object\n",
       "LSAD          object\n",
       "CLASSFP       object\n",
       "MTFCC         object\n",
       "CSAFP         object\n",
       "CBSAFP        object\n",
       "METDIVFP      object\n",
       "FUNCSTAT      object\n",
       "ALAND          int64\n",
       "AWATER         int64\n",
       "INTPTLAT      object\n",
       "INTPTLON      object\n",
       "geometry    geometry\n",
       "dtype: object"
      ]
     },
     "execution_count": 16,
     "metadata": {},
     "output_type": "execute_result"
    }
   ],
   "source": [
    "# b. Check the data types of the columns\n",
    "counties.dtypes"
   ]
  },
  {
   "cell_type": "code",
   "execution_count": 17,
   "metadata": {},
   "outputs": [
    {
     "data": {
      "text/plain": [
       "<Geographic 2D CRS: EPSG:4269>\n",
       "Name: NAD83\n",
       "Axis Info [ellipsoidal]:\n",
       "- Lat[north]: Geodetic latitude (degree)\n",
       "- Lon[east]: Geodetic longitude (degree)\n",
       "Area of Use:\n",
       "- name: North America - onshore and offshore: Canada - Alberta; British Columbia; Manitoba; New Brunswick; Newfoundland and Labrador; Northwest Territories; Nova Scotia; Nunavut; Ontario; Prince Edward Island; Quebec; Saskatchewan; Yukon. Puerto Rico. United States (USA) - Alabama; Alaska; Arizona; Arkansas; California; Colorado; Connecticut; Delaware; Florida; Georgia; Hawaii; Idaho; Illinois; Indiana; Iowa; Kansas; Kentucky; Louisiana; Maine; Maryland; Massachusetts; Michigan; Minnesota; Mississippi; Missouri; Montana; Nebraska; Nevada; New Hampshire; New Jersey; New Mexico; New York; North Carolina; North Dakota; Ohio; Oklahoma; Oregon; Pennsylvania; Rhode Island; South Carolina; South Dakota; Tennessee; Texas; Utah; Vermont; Virginia; Washington; West Virginia; Wisconsin; Wyoming. US Virgin Islands. British Virgin Islands.\n",
       "- bounds: (167.65, 14.92, -40.73, 86.45)\n",
       "Datum: North American Datum 1983\n",
       "- Ellipsoid: GRS 1980\n",
       "- Prime Meridian: Greenwich"
      ]
     },
     "execution_count": 17,
     "metadata": {},
     "output_type": "execute_result"
    }
   ],
   "source": [
    "# c. Check the coordinate reference system\n",
    "counties.crs"
   ]
  },
  {
   "cell_type": "code",
   "execution_count": 18,
   "metadata": {},
   "outputs": [
    {
     "data": {
      "text/plain": [
       "<Axes: >"
      ]
     },
     "execution_count": 18,
     "metadata": {},
     "output_type": "execute_result"
    },
    {
     "data": {
      "image/png": "[encoded data removed]",
      "text/plain": [
       "<Figure size 640x480 with 1 Axes>"
      ]
     },
     "metadata": {},
     "output_type": "display_data"
    }
   ],
   "source": [
    "# d. Plot counties\n",
    "counties.plot()"
   ]
  },
  {
   "cell_type": "markdown",
   "metadata": {
    "deletable": false,
    "editable": false
   },
   "source": [
    "<!-- BEGIN QUESTION -->\n",
    "\n",
    "f. Use the next markdown cell to explain what information you obtained from the preliminary exploration. Use complete sentences."
   ]
  },
  {
   "cell_type": "markdown",
   "metadata": {
    "deletable": false,
    "editable": false
   },
   "source": [
    "From the preliminary exploration of the counties geodataframe, I gained information about what columns are included in the geodataframe, the data type of each column, the coordinate reference system, and the shape it takes when plotted. Things that stood out to me were that the CRS is EPSG:4269 and that it containes the US including Hawaii, Alaska, and other US territories."
   ]
  },
  {
   "cell_type": "markdown",
   "metadata": {
    "deletable": false,
    "editable": false
   },
   "source": [
    "<!-- END QUESTION -->\n",
    "\n",
    "### 6.B. Cleaning\n",
    "\n",
    "Simplify column names as needed."
   ]
  },
  {
   "cell_type": "code",
   "execution_count": 19,
   "metadata": {},
   "outputs": [
    {
     "data": {
      "text/plain": [
       "Index(['statefp', 'countyfp', 'countyns', 'geoid', 'geoidfq', 'name',\n",
       "       'namelsad', 'lsad', 'classfp', 'mtfcc', 'csafp', 'cbsafp', 'metdivfp',\n",
       "       'funcstat', 'aland', 'awater', 'intptlat', 'intptlon', 'geometry'],\n",
       "      dtype='object')"
      ]
     },
     "execution_count": 19,
     "metadata": {},
     "output_type": "execute_result"
    }
   ],
   "source": [
    "# Simplify column names\n",
    "counties.columns = counties.columns.str.lower()\n",
    "counties.columns\n"
   ]
  },
  {
   "cell_type": "markdown",
   "metadata": {},
   "source": [
    "### 6.C. Data selection\n",
    "\n",
    "Select all the counties for the state of New York in a new variable `ny_counties` and plot them."
   ]
  },
  {
   "cell_type": "code",
   "execution_count": 20,
   "metadata": {},
   "outputs": [
    {
     "data": {
      "text/plain": [
       "<Axes: >"
      ]
     },
     "execution_count": 20,
     "metadata": {},
     "output_type": "execute_result"
    },
    {
     "data": {
      "image/png": "[encoded data removed]",
      "text/plain": [
       "<Figure size 640x480 with 1 Axes>"
      ]
     },
     "metadata": {},
     "output_type": "display_data"
    }
   ],
   "source": [
    "# Select counties in NY. NY = State FIPS code 36\n",
    "ny_counties = counties[counties.statefp == \"36\"]\n",
    "ny_counties.plot()"
   ]
  },
  {
   "cell_type": "markdown",
   "metadata": {},
   "source": [
    "## 7 Merging\n",
    "\n",
    "The goal of this section is to create a single dataframe with the number of spills per county and the corresponding geometries for each county.\n",
    "\n",
    "### 7.A. Explore data\n",
    "\n",
    "In the next cells:\n",
    "\n",
    "a. Print the names of counties in `ny_counties`, without repetition.\n",
    "\n",
    "b. Print the names of counties in `spills_per_county`, without repetition. Examine the differences in the outputs.\n"
   ]
  },
  {
   "cell_type": "code",
   "execution_count": 21,
   "metadata": {},
   "outputs": [
    {
     "name": "stdout",
     "output_type": "stream",
     "text": [
      "County names in ny_counties are ['Steuben' 'Saratoga' 'Allegany' 'Oswego' 'Ulster' 'St. Lawrence'\n",
      " 'Schuyler' 'Essex' 'Suffolk' 'Hamilton' 'Dutchess' 'Otsego' 'Tompkins'\n",
      " 'Albany' 'Cayuga' 'Greene' 'Herkimer' 'Warren' 'Jefferson' 'Clinton'\n",
      " 'Nassau' 'Madison' 'Washington' 'Westchester' 'Lewis' 'Ontario'\n",
      " 'Cortland' 'Richmond' 'Erie' 'Putnam' 'Montgomery' 'Sullivan' 'Orleans'\n",
      " 'Oneida' 'Cattaraugus' 'Yates' 'Tioga' 'Monroe' 'Schoharie' 'Broome'\n",
      " 'Rensselaer' 'Seneca' 'Queens' 'Genesee' 'Wayne' 'Niagara' 'Kings'\n",
      " 'Chemung' 'Wyoming' 'New York' 'Columbia' 'Chautauqua' 'Franklin'\n",
      " 'Onondaga' 'Chenango' 'Fulton' 'Rockland' 'Livingston' 'Delaware'\n",
      " 'Orange' 'Schenectady' 'Bronx']\n"
     ]
    }
   ],
   "source": [
    "# a. Show names of counties in ny_counties\n",
    "print(f\"County names in ny_counties are {ny_counties.name.unique()}\")"
   ]
  },
  {
   "cell_type": "code",
   "execution_count": 22,
   "metadata": {},
   "outputs": [
    {
     "name": "stdout",
     "output_type": "stream",
     "text": [
      "County names in spills_per_county are ['Albany' 'Allegany' 'Bronx' 'Broome' 'Cattaraugus' 'Cayuga' 'Chautauqua'\n",
      " 'Chemung' 'Chenango' 'Clinton' 'Columbia' 'Cortland' 'Delaware'\n",
      " 'Dutchess' 'Erie' 'Essex' 'Franklin' 'Fulton' 'Genesee' 'Greene'\n",
      " 'Hamilton' 'Herkimer' 'Jefferson' 'Kings' 'Lewis' 'Livingston' 'Madison'\n",
      " 'Monroe' 'Montgomery' 'Nassau' 'New Jersey - Region 2' 'New York'\n",
      " 'Niagara' 'Oneida' 'Onondaga' 'Ontario' 'Orange' 'Orleans' 'Oswego'\n",
      " 'Otsego' 'Putnam' 'Queens' 'Rensselaer' 'Richmond' 'Rockland' 'Saratoga'\n",
      " 'Schenectady' 'Schoharie' 'Schuyler' 'Seneca' 'St Lawrence' 'Steuben'\n",
      " 'Suffolk' 'Sullivan' 'Tioga' 'Tompkins' 'Tuscarora Indian Reservation'\n",
      " 'Ulster' 'Warren' 'Washington' 'Wayne' 'Westchester' 'Wyoming' 'Yates']\n"
     ]
    }
   ],
   "source": [
    "# b. Show names of counties in spills_per_county\n",
    "print(f\"County names in spills_per_county are {spills_per_county.county.unique()}\")\n"
   ]
  },
  {
   "cell_type": "markdown",
   "metadata": {
    "deletable": false,
    "editable": false
   },
   "source": [
    "\n",
    "\n",
    "c. Which are the county names that are in `spills_per_county`, but not in `ny_counties`? Your answer should be a list of strings\n",
    "HINT: You can use the `numpy` function [`setdiff1d()`](https://numpy.org/doc/stable/reference/generated/numpy.setdiff1d.html), pay attention to the example in the documentation. Store your answer in the `diff_names` variable. \n",
    "\n"
   ]
  },
  {
   "cell_type": "code",
   "execution_count": 23,
   "metadata": {
    "tags": []
   },
   "outputs": [
    {
     "data": {
      "text/plain": [
       "array(['New Jersey - Region 2', 'St Lawrence',\n",
       "       'Tuscarora Indian Reservation'], dtype=object)"
      ]
     },
     "execution_count": 23,
     "metadata": {},
     "output_type": "execute_result"
    }
   ],
   "source": [
    "# Find counties in spills_per_county that are not in ny_counties\n",
    "diff_names_spills = np.setdiff1d(spills_per_county.county.unique(), ny_counties.name.unique())\n",
    "diff_names_spills"
   ]
  },
  {
   "cell_type": "markdown",
   "metadata": {
    "deletable": false,
    "editable": false
   },
   "source": [
    "\n",
    "d. Which are the county names that are in `ny_counties`, but not in `spills_per_county`? Your answer should be a list of strings.\n"
   ]
  },
  {
   "cell_type": "code",
   "execution_count": 24,
   "metadata": {
    "tags": []
   },
   "outputs": [
    {
     "data": {
      "text/plain": [
       "array(['St. Lawrence'], dtype=object)"
      ]
     },
     "execution_count": 24,
     "metadata": {},
     "output_type": "execute_result"
    }
   ],
   "source": [
    "# Find counties in ny_counties tha are not in spills_per_county\n",
    "diff_names_ny = np.setdiff1d(ny_counties.name.unique(), spills_per_county.county.unique())\n",
    "diff_names_ny"
   ]
  },
  {
   "cell_type": "markdown",
   "metadata": {},
   "source": [
    "\n",
    "\n",
    "\n",
    "e. What is the number of spills in 'Tuscarora Indian Reservation'?\n"
   ]
  },
  {
   "cell_type": "code",
   "execution_count": 25,
   "metadata": {},
   "outputs": [
    {
     "data": {
      "text/html": [
       "<div>\n",
       "<style scoped>\n",
       "    .dataframe tbody tr th:only-of-type {\n",
       "        vertical-align: middle;\n",
       "    }\n",
       "\n",
       "    .dataframe tbody tr th {\n",
       "        vertical-align: top;\n",
       "    }\n",
       "\n",
       "    .dataframe thead th {\n",
       "        text-align: right;\n",
       "    }\n",
       "</style>\n",
       "<table border=\"1\" class=\"dataframe\">\n",
       "  <thead>\n",
       "    <tr style=\"text-align: right;\">\n",
       "      <th></th>\n",
       "      <th>county</th>\n",
       "      <th>n_spills</th>\n",
       "    </tr>\n",
       "  </thead>\n",
       "  <tbody>\n",
       "    <tr>\n",
       "      <th>56</th>\n",
       "      <td>Tuscarora Indian Reservation</td>\n",
       "      <td>1</td>\n",
       "    </tr>\n",
       "  </tbody>\n",
       "</table>\n",
       "</div>"
      ],
      "text/plain": [
       "                          county  n_spills\n",
       "56  Tuscarora Indian Reservation         1"
      ]
     },
     "execution_count": 25,
     "metadata": {},
     "output_type": "execute_result"
    }
   ],
   "source": [
    "# e. Find number of spills in 'Tuscarora Indian Reservation'\n",
    "spills_per_county[spills_per_county.county == 'Tuscarora Indian Reservation']"
   ]
  },
  {
   "cell_type": "markdown",
   "metadata": {},
   "source": [
    "### 7.B. Data updates\n",
    "\n",
    "In the next cell, update 'St Lawrence' to 'St. Lawrence' in `spills_per_county` data frame and use an `assert` statement to verify that the update was successful.\n",
    "\n",
    "You may add cells if needed."
   ]
  },
  {
   "cell_type": "code",
   "execution_count": 26,
   "metadata": {},
   "outputs": [
    {
     "data": {
      "text/html": [
       "<div>\n",
       "<style scoped>\n",
       "    .dataframe tbody tr th:only-of-type {\n",
       "        vertical-align: middle;\n",
       "    }\n",
       "\n",
       "    .dataframe tbody tr th {\n",
       "        vertical-align: top;\n",
       "    }\n",
       "\n",
       "    .dataframe thead th {\n",
       "        text-align: right;\n",
       "    }\n",
       "</style>\n",
       "<table border=\"1\" class=\"dataframe\">\n",
       "  <thead>\n",
       "    <tr style=\"text-align: right;\">\n",
       "      <th></th>\n",
       "      <th>county</th>\n",
       "      <th>n_spills</th>\n",
       "    </tr>\n",
       "  </thead>\n",
       "  <tbody>\n",
       "    <tr>\n",
       "      <th>50</th>\n",
       "      <td>St Lawrence</td>\n",
       "      <td>65</td>\n",
       "    </tr>\n",
       "  </tbody>\n",
       "</table>\n",
       "</div>"
      ],
      "text/plain": [
       "         county  n_spills\n",
       "50  St Lawrence        65"
      ]
     },
     "execution_count": 26,
     "metadata": {},
     "output_type": "execute_result"
    }
   ],
   "source": [
    "# Update 'St Lawrence' to 'St. Lawrence' in spills_per_county\n",
    "# First, find the index integer for the row containing 'St Lawrence'\n",
    "spills_per_county[spills_per_county.county == 'St Lawrence']\n"
   ]
  },
  {
   "cell_type": "code",
   "execution_count": 27,
   "metadata": {},
   "outputs": [],
   "source": [
    "# Next, update to 'St. Lawrence' using at[]\n",
    "spills_per_county.at[50, 'county'] = 'St. Lawrence'"
   ]
  },
  {
   "cell_type": "code",
   "execution_count": 28,
   "metadata": {},
   "outputs": [],
   "source": [
    "# Verify the update using assert\n",
    "assert spills_per_county.at[50, 'county'] == 'St. Lawrence'"
   ]
  },
  {
   "cell_type": "markdown",
   "metadata": {},
   "source": [
    "### 7.C. Merge\n",
    "\n",
    "In the following cells:\n",
    "\n",
    "a. Use this cell to make any other updates needed for making an inner join of the `spills_per_county` and `ny_counties`. \n",
    "\n",
    "b. Over-write `ny_counties` as the  inner join of the `spills_per_county` and `ny_counties` dataframes.\n"
   ]
  },
  {
   "cell_type": "code",
   "execution_count": 29,
   "metadata": {},
   "outputs": [],
   "source": [
    "# a. Rename 'name' column in ny_counties to 'county' for join\n",
    "ny_counties = ny_counties.rename(columns={\"name\":\"county\"})\n"
   ]
  },
  {
   "cell_type": "code",
   "execution_count": 30,
   "metadata": {},
   "outputs": [],
   "source": [
    "# b. Inner join ny_counties and spills_per_county by county column\n",
    "ny_counties = pd.merge(ny_counties, spills_per_county, how='inner', on='county')"
   ]
  },
  {
   "cell_type": "markdown",
   "metadata": {},
   "source": [
    "\n",
    "From our previous exploration we know that Tuscarora Indian Reservation will not be in the join. Tuscarora Indian Reservation is located within Niagara county. \n",
    "\n",
    "c. Since the Tuscarora Indian Reservation does not appear in the `ny_counties` dataframe, add one spill to Niagara county. Add the cells you need to make this update **and** verify that the dataframe was updated."
   ]
  },
  {
   "cell_type": "code",
   "execution_count": 31,
   "metadata": {},
   "outputs": [
    {
     "data": {
      "text/html": [
       "<div>\n",
       "<style scoped>\n",
       "    .dataframe tbody tr th:only-of-type {\n",
       "        vertical-align: middle;\n",
       "    }\n",
       "\n",
       "    .dataframe tbody tr th {\n",
       "        vertical-align: top;\n",
       "    }\n",
       "\n",
       "    .dataframe thead th {\n",
       "        text-align: right;\n",
       "    }\n",
       "</style>\n",
       "<table border=\"1\" class=\"dataframe\">\n",
       "  <thead>\n",
       "    <tr style=\"text-align: right;\">\n",
       "      <th></th>\n",
       "      <th>statefp</th>\n",
       "      <th>countyfp</th>\n",
       "      <th>countyns</th>\n",
       "      <th>geoid</th>\n",
       "      <th>geoidfq</th>\n",
       "      <th>county</th>\n",
       "      <th>namelsad</th>\n",
       "      <th>lsad</th>\n",
       "      <th>classfp</th>\n",
       "      <th>mtfcc</th>\n",
       "      <th>csafp</th>\n",
       "      <th>cbsafp</th>\n",
       "      <th>metdivfp</th>\n",
       "      <th>funcstat</th>\n",
       "      <th>aland</th>\n",
       "      <th>awater</th>\n",
       "      <th>intptlat</th>\n",
       "      <th>intptlon</th>\n",
       "      <th>geometry</th>\n",
       "      <th>n_spills</th>\n",
       "    </tr>\n",
       "  </thead>\n",
       "  <tbody>\n",
       "    <tr>\n",
       "      <th>45</th>\n",
       "      <td>36</td>\n",
       "      <td>063</td>\n",
       "      <td>00974130</td>\n",
       "      <td>36063</td>\n",
       "      <td>0500000US36063</td>\n",
       "      <td>Niagara</td>\n",
       "      <td>Niagara County</td>\n",
       "      <td>06</td>\n",
       "      <td>H1</td>\n",
       "      <td>G4020</td>\n",
       "      <td>160</td>\n",
       "      <td>15380</td>\n",
       "      <td>None</td>\n",
       "      <td>A</td>\n",
       "      <td>1352876140</td>\n",
       "      <td>1598772310</td>\n",
       "      <td>+43.2726719</td>\n",
       "      <td>-078.8129431</td>\n",
       "      <td>POLYGON ((-78.49165 43.08396, -78.49179 43.084...</td>\n",
       "      <td>88</td>\n",
       "    </tr>\n",
       "  </tbody>\n",
       "</table>\n",
       "</div>"
      ],
      "text/plain": [
       "   statefp countyfp  countyns  geoid         geoidfq   county        namelsad  \\\n",
       "45      36      063  00974130  36063  0500000US36063  Niagara  Niagara County   \n",
       "\n",
       "   lsad classfp  mtfcc csafp cbsafp metdivfp funcstat       aland      awater  \\\n",
       "45   06      H1  G4020   160  15380     None        A  1352876140  1598772310   \n",
       "\n",
       "       intptlat      intptlon  \\\n",
       "45  +43.2726719  -078.8129431   \n",
       "\n",
       "                                             geometry  n_spills  \n",
       "45  POLYGON ((-78.49165 43.08396, -78.49179 43.084...        88  "
      ]
     },
     "execution_count": 31,
     "metadata": {},
     "output_type": "execute_result"
    }
   ],
   "source": [
    "# c. # Find index integer for the row regarding Niagara county\n",
    "ny_counties[ny_counties.county == 'Niagara']"
   ]
  },
  {
   "cell_type": "code",
   "execution_count": 32,
   "metadata": {},
   "outputs": [],
   "source": [
    "# Add one spill to n_spills, making the count 89\n",
    "ny_counties.at[45, 'n_spills'] += 1"
   ]
  },
  {
   "cell_type": "code",
   "execution_count": 33,
   "metadata": {},
   "outputs": [],
   "source": [
    "# Verify n_spills was updated\n",
    "assert ny_counties.at[45, 'n_spills'] == 89"
   ]
  },
  {
   "cell_type": "markdown",
   "metadata": {
    "deletable": false,
    "editable": false
   },
   "source": [
    "<!-- BEGIN QUESTION -->\n",
    "\n",
    "## 8. Map\n",
    "a. Create a choropleth map of the number of petroleum spills per county in the state of New York in 2023. \n",
    "Your map should be polished and have (at least) the following updates:\n",
    "- a legend indicating the number of spills\n",
    "- an updated color map\n",
    "- a title \n",
    "- no axis\n",
    "- an [annotation](https://matplotlib.org/stable/api/_as_gen/matplotlib.pyplot.annotate.html) with the data source (New York State Department of Environmental Conservation) and date of access.\n",
    "\n"
   ]
  },
  {
   "cell_type": "code",
   "execution_count": 34,
   "metadata": {
    "tags": []
   },
   "outputs": [
    {
     "data": {
      "image/png": "[encoded data removed]",
      "text/plain": [
       "<Figure size 900x500 with 2 Axes>"
      ]
     },
     "metadata": {},
     "output_type": "display_data"
    }
   ],
   "source": [
    "# a. Choropleth map of number of petroleum spills per county in NY in 2023\n",
    "fig, ax = plt.subplots(figsize=(9,5))   # Update figure size\n",
    "\n",
    "# Remove axis for a cleaner map\n",
    "ax.axis('off')\n",
    "\n",
    "# Title for the plot\n",
    "ax.set_title('New York 2023 petroleum spills per county', \n",
    "              fontsize=15)\n",
    "\n",
    "# Plot spills per county\n",
    "ny_counties.plot(ax=ax,\n",
    "                 column='n_spills', \n",
    "                 legend=True,\n",
    "                 cmap = 'Oranges',\n",
    "                 legend_kwds={'label':'Number of Petroleum Spills'})\n",
    "\n",
    "# Subtitle\n",
    "ax.annotate(\"Data Source: New York State Department of Environmental Conservation. \\n Accessed 2024-11-04\",\n",
    "            xy = (0.08, 0.03), xycoords='figure fraction', fontsize = 8, color = 'grey')\n",
    "\n",
    "plt.show()\n"
   ]
  },
  {
   "cell_type": "markdown",
   "metadata": {
    "deletable": false,
    "editable": false
   },
   "source": [
    "<!-- END QUESTION -->\n",
    "\n",
    "<!-- BEGIN QUESTION -->\n",
    "\n",
    "b. Write a figure description for the map, including tha names of the top 3 counties with the most petroleum spills. If you need to do additional data analysis to include relevant information from the data, you may include additional code cells here."
   ]
  },
  {
   "cell_type": "code",
   "execution_count": 35,
   "metadata": {},
   "outputs": [
    {
     "data": {
      "text/html": [
       "<div>\n",
       "<style scoped>\n",
       "    .dataframe tbody tr th:only-of-type {\n",
       "        vertical-align: middle;\n",
       "    }\n",
       "\n",
       "    .dataframe tbody tr th {\n",
       "        vertical-align: top;\n",
       "    }\n",
       "\n",
       "    .dataframe thead th {\n",
       "        text-align: right;\n",
       "    }\n",
       "</style>\n",
       "<table border=\"1\" class=\"dataframe\">\n",
       "  <thead>\n",
       "    <tr style=\"text-align: right;\">\n",
       "      <th></th>\n",
       "      <th>county</th>\n",
       "      <th>n_spills</th>\n",
       "    </tr>\n",
       "  </thead>\n",
       "  <tbody>\n",
       "    <tr>\n",
       "      <th>23</th>\n",
       "      <td>Westchester</td>\n",
       "      <td>743</td>\n",
       "    </tr>\n",
       "    <tr>\n",
       "      <th>8</th>\n",
       "      <td>Suffolk</td>\n",
       "      <td>723</td>\n",
       "    </tr>\n",
       "    <tr>\n",
       "      <th>20</th>\n",
       "      <td>Nassau</td>\n",
       "      <td>576</td>\n",
       "    </tr>\n",
       "  </tbody>\n",
       "</table>\n",
       "</div>"
      ],
      "text/plain": [
       "         county  n_spills\n",
       "23  Westchester       743\n",
       "8       Suffolk       723\n",
       "20       Nassau       576"
      ]
     },
     "execution_count": 35,
     "metadata": {},
     "output_type": "execute_result"
    }
   ],
   "source": [
    "# Find top 3 NY counties with the most petroleum spills\n",
    "top_3 = ny_counties[['county', 'n_spills']].sort_values(by='n_spills', ascending=False).head(3)\n",
    "top_3"
   ]
  },
  {
   "cell_type": "markdown",
   "metadata": {},
   "source": [
    "The figure above shows 2023 petroleum spills by New York counties. Darker colors on the map represent a higher count of spills. In 2023, the top 3 counties with the most petroleum spills were Westchester with 743 spills, Suffolk with 723 spills, and Nassau with 576 spills."
   ]
  }
 ],
 "metadata": {
  "kernelspec": {
   "display_name": "eds220-env",
   "language": "python",
   "name": "python3"
  },
  "language_info": {
   "codemirror_mode": {
    "name": "ipython",
    "version": 3
   },
   "file_extension": ".py",
   "mimetype": "text/x-python",
   "name": "python",
   "nbconvert_exporter": "python",
   "pygments_lexer": "ipython3",
   "version": "3.11.4"
  }
 },
 "nbformat": 4,
 "nbformat_minor": 4
}
